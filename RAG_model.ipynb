{
 "cells": [
  {
   "cell_type": "code",
   "execution_count": 2,
   "id": "a0914ec3-5059-4cc7-88ac-bb9e37234947",
   "metadata": {},
   "outputs": [],
   "source": [
    "from langchain_community.document_loaders import UnstructuredURLLoader\n",
    "urls = ['https://www.bentleymotors.com/en/your-bentley/accessories.html','https://www.bentleymotors.com/en/about-bentley/history-and-heritage.html','https://www.bentleymotors.com/en/models.html#card-item-d6be51a31b','https://www.bentleymotors.com/en/models/bentley-hybrids.html']\n",
    "loader = UnstructuredURLLoader(urls=urls)\n",
    "data = loader.load()  "
   ]
  },
  {
   "cell_type": "code",
   "execution_count": 2,
   "id": "00936f4e-67e1-436c-a8cb-53f1bde8dfd7",
   "metadata": {},
   "outputs": [
    {
     "data": {
      "text/plain": [
       "[Document(metadata={'source': 'https://www.bentleymotors.com/en/your-bentley/accessories.html'}, page_content=\"Bentley Accessories\\n\\nEvery Bentley owner is different. That’s why we offer an extensive range of Bentley car accessories, designed to enhance the way your car looks, sounds and feels, elevating your driving experience. In short, there is no better way to complete your vision and make your Bentley unique.\\n\\nCONTACT official BENTLEY dealer create your own\\n\\nCrafted to complement your car\\n\\nWhatever accessories you choose, however, you can expect a seamless continuation of the Bentley design language. For example, all carbon fibre styling enhancements are mirror-matched using the same process as the carbon fibre veneers inside your car, for absolute symmetry, right down to the weave. And because every accessory is made by Bentley, each one is rigorously tested and inspected to the same exacting standards as your car. They are also supplied with a warranty of at least two years (three if they are fitted when the car is ordered from the factory).\\n\\nCREATE YOUR OWN\\n\\nAccessories\\n\\nBentayga EWB\\n\\nWhether you’re seeking out a new sophisticated aesthetic, offering a dynamic edge to your Bentayga EWB's appearance or simply safeguarding it’s impeccable quality – every Bentley accessory blends versatility with refinement to bring a truly unique ownership experience.\\n\\nCREATE YOUR OWN\\n\\nAccessories\\n\\nBentayga\\n\\nWhether you’re seeking out a new sophisticated aesthetic, offering a dynamic edge to your Bentayga’s appearance or simply safeguarding it’s impeccable quality – every Bentley accessory blends versatility with refinement to bring a truly unique ownership experience.\\n\\nCREATE YOUR OWN\\n\\nAccessories\\n\\nFlying Spur\\n\\nThe Flying Spur combines effortless performance, sculpted design and exquisite craftsmanship to transport you to new heights of exhilaration. With accessories inspired by the precious materials and potent nature of your car, you can harness this potential at every turn. Whether you want to enhance its powerful presence, adjust the functionality to fit your needs, or simply source practical additions that make every drive effortless, this collection is crafted to breathe new life into your Flying Spur.\\n\\nCREATE YOUR OWN\\n\\nAccessories\\n\\nContinental GT\\n\\nEvery part of your Bentley Continental is carefully considered and expertly crafted. We believe any accessories you add should be just as exclusive. That’s why we created the Bentley accessories range: a selection of specially chosen features, all bearing the unmistakable stamp of Bentley. Whatever accessories you decide upon, you can be confident they will enhance your car and elevate the whole driving experience.\\n\\nCREATE YOUR OWN\\n\\nContinental GT & GTC accessories\\n\\nAn exclusive new car cover has been created, to protect cars stored primarily in garages or underground car parks from dust and scratches.\\n\\nThe cover is tailored specifically to fit the sleek contours of the new Continental GT. The microfibre outer is made from a breathable material that allows moisture to evaporate easily, while a fleece inner lining provides added protection. All materials have undergone extensive testing to guarantee the most powerful protection for your car.\\n\\nFinished in black with a printed Bentley emblem, the cover is supplied with a storage bag for when it’s not in use.\\n\\nCREATE YOUR OWN\\n\\nBentley Collection\\n\\nAccessories for yourself\\n\\nBentley accessories are not just for our cars – we make things for people, too. The Bentley Collection is a thoughtfully curated selection of luxury products, evoking both our heritage and our vision for the future. From a Bentley scarf or Bentley handbags to delicately balanced fragrances and exquisite finishing touches for the home, every item evokes Bentley’s craftsmanship, exclusivity and style.\\n\\nShop Now\\n\\nContinental GT Speed (Hybrid) WLTP drive cycle: fuel consumption, mpg (l/100km) – Combined - (-). Combined electrical consumption – - Wh/km. Combined CO₂ Emissions – - g/km.\"),\n",
       " Document(metadata={'source': 'https://www.bentleymotors.com/en/about-bentley/history-and-heritage.html'}, page_content=\"The Bentley Story\\n\\nOur story\\n\\nFrom W.O. Bentley, who founded Bentley Motors in 1919, to the current team of over 4,000 dedicated employees, the company’s extraordinary cars have always been designed and built by exceptional people using only the finest of materials. They have always been driven by exceptional people, too. From the passionate Bentley Boys and Girls who raced the cars in the 1920s, encouraging W.O. Bentley to achieve ever greater feats of engineering, to the visionary Bentley owners of today, Bentley drivers help to shape the world around them.\\n\\nAs a brand we are also constantly looking forwards, and in this section you will find our technological innovations and future vision for Bentley. And now we are going further, towards a more sustainable future. In 2020 Bentley Motors launched the ‘Beyond100’ Manifesto, which outlines our intention to become the most sustainable luxury Automotive brand in the world.\\n\\nThe unique relationship between those who create the cars and those who drive them has helped create an enthralling story unlike any other. Explore the stories below to find out more.\\n\\nW.O Bentley\\n\\nBorn in 1888 as the youngest of nine siblings, Walter Owen Bentley – though he preferred to be called W.O. – founded the company that carries his name on 10 July 1919. Now, almost 100 years later, his name is known across the globe for creating cars with an unrivalled blend of performance and the finest craftsmanship and materials. Below, we take a look at the man who changed motoring forever.\\n\\nexplore\\n\\nBentley Boys and Girls\\n\\nBentley Boys - Always ready for a race, a challenge or a glass of champagne, the first generation of Bentley Boys were a close-knit group of extraordinary playboys, racers and adventurers who achieved global fame during the 1920s and 30s. They inspired a whole generation of Bentley drivers and admirers, with their passion for driving and deep love of a challenge. And behind the wheel of Bentley motorcars, they dominated Le Mans with five wins in just eight years.\\n\\nBentley Girls - The Bentley Boys may have set the pace, but Bentley Girls refused to take a back seat, making their mark in inimitable Bentley Style. Mary Petre Bruce, Dorothy Paget and Diana Barnato – Bentley’s Flying Lady – each played an extraordinary part in building the Bentley legend.\\n\\nexplore\\n\\nBentley Story\\n\\nMotorsports\\n\\nMotorsport has been at the heart of Bentley throughout its 102 years. In 1921, just two years after the first Bentley prototype was revealed, it was racing at the world famous 24 Hours of Le Mans. Today, Bentley races with the Continental GT3, it’s most dynamic and powerful race car based on its most advanced road car yet. Designed by Bentley at its headquarters in Crewe, the Continental GT3 is raced by the luxury brand’s successful and prestigious teams around the world.\\n\\nexplore\\n\\nBentley Brooklands\\n\\nFirst produced in 1993, 2007 saw the triumphant return of the Bentley Brooklands. Descended from an incomparable bloodline of truly potent coupés and taking power to a new level, the Bentley Brooklands featured the most powerful V8 engine Bentley had ever created, capable of top speeds of 184mph (296km/h).\\n\\nexplore bentley pre-owned\\n\\nContinental\\n\\nEarly in the 21st century, a stunning, two-door Bentley was unveiled, one that refined and redefined the language of grand tourer design. The revolutionary Continental GT has combined phenomenal performance and exquisite craftsmanship for more than a decade, with continual enhancements pushing the boundaries of technology, from sheer power to the choice of finishes.\\n\\nThis modern classic has been giving rise to countless Continental stories since the day it was launched. From four-time world rally champion Juha Kankkunen breaking the world ice speed record in a Continental GT Convertible to pop art legend Peter Blake creating a unique exterior for a Continental GT V8 S, this is a car that continues to inspire.\\n\\nexplore\\n\\nFlying Spur\\n\\nThe Bentley Flying Spur was created to be a superlative four door sedan - for drivers and passengers alike. With enough space for four adults to travel in extraordinary comfort, the Flying Spur offered surging power combined with agility. Its acceleration, handling and all-wheel drive capability all contributed to an exceptional drive experience, taking both performance and luxurious interior craftsmanship to a new level.\\n\\nexplore\\n\\nMulsanne\\n\\nThe Bentley Mulsanne spent a decade as the flagship model of the Bentley range. The world’s finest handmade car represents the ultimate combination of both luxury and performance. The range offered a choice of two remarkable vehicles: the Mulsanne; and the Mulsanne Speed for more dynamic driving. The Mulsanne was given a face lift in 2014, with new design cues and interior options, and a new derivatives joined the Mulsanne range: Mulsanne Extended Wheelbase offering extra legroom and comfort.\\n\\nexplore\\n\\nBentayga\\n\\nBentayga is the first Bentley SUV - also the world's first true luxury SUV. Launched in 2015, Bentayga was named after the Roque Bentayga, on the island of Gran Canaria, Spain, and was designed, engineered and crafted to offer unprecedented levels of refinement and performance. Bentayga was created after consultation with Bentley owners and meticulous research to ensure this new model included the luxurious features and dynamic drive experience one expects of a Bentley.\\n\\nexplore\"),\n",
       " Document(metadata={'source': 'https://www.bentleymotors.com/en/models.html#card-item-d6be51a31b'}, page_content=\"Bentley Models\\n\\nThe world's widest range of handcrafted cars\\n\\nToday, they include the stunning Bentayga Extended Wheelbase – an SUV that offers an unrivalled passenger experience – and the Bentayga, which combines go-anywhere capability with handcrafted luxury. The Flying Spur is among the most sought-after executive sedans in the world, while the Continental GT and the convertible Continental GTC offer the ultimate grand touring experience.\\n\\nNew Bentley Continental GT Speed\\n\\nWith a phenomenal new Ultra-Performance Hybrid Powertrain, the new Bentley Continental GT Speed combines the V8 power you know with an unprecedented boost of torque from its electric motor, to deliver truly astonishing performance\\n\\nEXPLORE\\n\\nNew Bentley Continental GTC Speed\\n\\nWith a stunning new design and a wealth of innovative technology, nothing feels quite like driving the new Continental GTC Speed – with the roof up or down.\\n\\nEXPLORE\\n\\nBentayga Extended Wheelbase\\n\\nWith an extended wheelbase that boosts rear legroom significantly, the Bentayga EWB sets new standards in SUV comfort. Powered by a 4.0 litre V8 engine, this stunning example of a Bentley long wheelbase vehicle combines beautiful proportions with head-turning road presence.\\n\\nEXPLORE The Range CREATE YOUR OWN\\n\\nBentayga\\n\\nNo other SUV can compete with the Bentayga when it comes to craftsmanship, comfort or sheer exhilaration. Available with a 4.0 litre V8 petrol engine or a 3.0 litre hybrid, it is a luxury SUV without compare.\\n\\nEXPLORE The Range CREATE YOUR OWN\\n\\nFlying Spur\\n\\nAvailable with a choice of three powertrains – a 4.0 litre V8 engine, a 6.0 litre W12 engine or a 2.9 litre V6 Bentley hybrid, the Flying Spur is a luxury sedan that offers a unique combination of exhilarating performance and exquisite craftsmanship.\\n\\nEXPLORE The Range CREATE YOUR OWN\\n\\nThe Hybrid Range\\n\\nBentley’s journey into an electric future continues. The introduction of hybrid technology is an important stage on that journey, with a range of hybrid vehicles now available. In the years ahead, Bentley will reveal its first fully electric vehicle, making the shift to an all-electric line-up by 2030.\\n\\nEXPLORE\\n\\nBentley Pre-Owned\\n\\nEvery car to bear the Bentley name has been made to the same exacting standards, whether you choose a new or pre-owned model. These exceptional standards are why every pre-owned car from the Certified by Bentley programme includes a 12-month warranty, with the option to extend it if desired.\\n\\nEXPLORE\\n\\nMULLINER\\n\\nThe Beauty of Bespoke\\n\\nBentley's coachbuilding artisans can bring your perfect car to life. With Mulliner, nothing is impossible.\\n\\nEXPLORE MULLINER\\n\\nAll vehicles on this page: WLTP drive cycle: fuel consumption, mpg (l/100km) – Combined - (-). Combined electrical consumption – - Wh/km. Combined CO₂ Emissions – - g/km.\"),\n",
       " Document(metadata={'source': 'https://www.bentleymotors.com/en/models/bentley-hybrids.html'}, page_content='The Bentley Hybrid Range\\n\\nThe key components\\n\\nThe Bentley range currently offers two proven systems of hybrid technology – one created for the Bentayga and the other for the Flying Spur. By combining efficient petrol engines with advanced electric motors, they offer the engaging drive and long range associated with Bentley’s petrol-only engines, alongside significantly lower emissions. This is hybrid technology without compromise.\\n\\nAll hybrid Bentaygas are fitted with a 3.0 litre turbocharged V6 petrol engine, while hybrid Flying Spurs feature a 2.9 litre turbocharged V6 petrol engine. The battery and essential architecture of the hybrid system are the same.\\n\\nHoused between the gearbox and the petrol engine, the E Motor (a permanent magnet synchronous motor) delivers full torque instantly, minimising any delay that could result from turbocharger lag. The result is smooth, silent acceleration from a standing start – and the sense of effortless power for which all Bentleys are renowned.\\n\\nAll cars are powered by a 18.0 kWh (usable) lithium ion battery that can be charged at a rate of 7.2kW/h, meaning it can be fully recharged in as little as two and a half hours, depending on the charging infrastructure available. Cars include all cables required in the country of delivery as standard, however you can also request a Bentley Charging Dock for neatly storing the cables and charge unit.\\n\\nPlease note that installation of the Charging Dock is not included.\\n\\nKeep me informed\\n\\nPerformance without compromise\\n\\nIn the Bentayga, the E Motor is partnered with a 3.0 litre twin-turbocharged V6 petrol engine, delivering 456 bhp (462PS) and 516 lb.ft (700 Nm) of torque for a top speed of 158 mph (254 km/h). The vehicle can travel at speeds of up to 84 mph (135 km/h) on electric power alone. Bentaygas equipped with this powertrain can achieve a combined range of 536 miles (863 km). They can drive for at least 28 miles (45km) in EV Drive mode (WLTP), a significant increase compared to the previous model.\\n\\nThe Flying Spur teams an E Motor with a 2.9-litre twin-turbocharged V6 petrol engine, delivering 536 bhp (544 PS) and 750 Nm (553 lb.ft) of torque, for a top speed of 177 mph (285 km/h) and the ability to reach 87 mph (140 km/h) on purely electric power. As a result, it can accelerate from zero to 60 mph in a phenomenal 4.1 seconds (0-100 km/h in 4.3 secs). Combined range is 497 miles (800 km), while electric-only range is 25 miles (40km) (NEDC).\\n\\nThe key benefit, however, is efficiency. In a test in January 2022, nine Flying Spur Hybrids covered 10,500 miles (6,524 km) over six days, of which 3,000 miles (1,864 km) were driven on electric power alone – equivalent to driving across the United States from coast to coast. When compared to the Flying Spur V8, each car saved three gallons of fuel per day.\\n\\nSmart pedals for smarter driving\\n\\nA key element of the interface between the driver and the car is the haptic feedback provided via the brake and accelerator pedals.\\n\\nBentley Hybrid Efficiency Braking is a combination of two braking methods: traditional hydraulic braking to slow down the wheels and electric braking of the E Motor. The system cleverly blends the two, providing the driver with a conventional braking sensation through the brake pedal, while the vehicle harvests energy from the hydraulic brakes to recharge the battery.\\n\\nIn the Bentayga, the system provides further feedback to the driver, in the form of a pressure point experienced on depressing the accelerator pedal that indicates a change of power source, from electric-only to hybrid power.\\n\\nIf the car’s intelligent navigation system is active, the pedal will vibrate when you approach a junction or a change in the speed limit, instructing you to slow down. This conserves energy, while also providing a further opportunity for the system to recoup charge for the battery.\\n\\nKeep me informed\\n\\nA wealth of in-car information\\n\\nBentley hybrids can deliver a raft of information to the driver via the car’s infotainment system. The infotainment screen itself can display energy flow in each of the three driving modes, showing you whether the car is being powered by the battery or the petrol engine – or, if it is in Hold mode, if energy is flowing back to the battery to charge it.\\n\\nThe tachometer has been designed to augment the usual engine speed indication with additional information about the status of the battery and electric motor. At a glance, it can tell you what which mode you are in, whether the car is running on electric power or not and whether the petrol engine is running and if so, how fast. It will also tell you how much battery charge remains, how much fuel is in the tank and the vehicle’s remaining range at that moment.\\n\\nThe Bentley Hybrid Efficiency Navigation system features free text, context-specific search entry, which can respond to an address or point of interest. Navigation is improved with a three-dimensional building display, satellite maps and content in the head-up display, which also projects traffic information, street names and the distance to your destination.\\n\\nKeep me informed\\n\\nAll vehicles on this page: WLTP drive cycle: fuel consumption, mpg (l/100 km) – Combined 18.8-94.2 (3-15). Combined CO₂ – 71-340 g/km.')]"
      ]
     },
     "execution_count": 2,
     "metadata": {},
     "output_type": "execute_result"
    }
   ],
   "source": [
    "data"
   ]
  },
  {
   "cell_type": "code",
   "execution_count": 3,
   "id": "69b9324d-9c5f-46b5-a713-6b6d06419a10",
   "metadata": {},
   "outputs": [
    {
     "name": "stdout",
     "output_type": "stream",
     "text": [
      "Total number of documents:  24\n"
     ]
    }
   ],
   "source": [
    "from langchain.text_splitter import RecursiveCharacterTextSplitter\n",
    "\n",
    "# split data\n",
    "text_splitter = RecursiveCharacterTextSplitter(chunk_size=1000)\n",
    "docs = text_splitter.split_documents(data)\n",
    "\n",
    "\n",
    "print(\"Total number of documents: \",len(docs))"
   ]
  },
  {
   "cell_type": "code",
   "execution_count": 4,
   "id": "f530e275-dad6-4bd9-84a8-635d56fbf686",
   "metadata": {},
   "outputs": [
    {
     "data": {
      "text/plain": [
       "Document(metadata={'source': 'https://www.bentleymotors.com/en/about-bentley/history-and-heritage.html'}, page_content='The Bentley Story\\n\\nOur story\\n\\nFrom W.O. Bentley, who founded Bentley Motors in 1919, to the current team of over 4,000 dedicated employees, the company’s extraordinary cars have always been designed and built by exceptional people using only the finest of materials. They have always been driven by exceptional people, too. From the passionate Bentley Boys and Girls who raced the cars in the 1920s, encouraging W.O. Bentley to achieve ever greater feats of engineering, to the visionary Bentley owners of today, Bentley drivers help to shape the world around them.\\n\\nAs a brand we are also constantly looking forwards, and in this section you will find our technological innovations and future vision for Bentley. And now we are going further, towards a more sustainable future. In 2020 Bentley Motors launched the ‘Beyond100’ Manifesto, which outlines our intention to become the most sustainable luxury Automotive brand in the world.')"
      ]
     },
     "execution_count": 4,
     "metadata": {},
     "output_type": "execute_result"
    }
   ],
   "source": [
    "docs[6]"
   ]
  },
  {
   "cell_type": "code",
   "execution_count": 3,
   "id": "c3c53928-ebc8-48d7-9a11-6c8fde0bf818",
   "metadata": {},
   "outputs": [
    {
     "name": "stderr",
     "output_type": "stream",
     "text": [
      "C:\\Users\\haris\\miniconda3\\envs\\env_langchain1\\lib\\site-packages\\tqdm\\auto.py:21: TqdmWarning: IProgress not found. Please update jupyter and ipywidgets. See https://ipywidgets.readthedocs.io/en/stable/user_install.html\n",
      "  from .autonotebook import tqdm as notebook_tqdm\n"
     ]
    },
    {
     "name": "stdout",
     "output_type": "stream",
     "text": [
      "[0.05168594419956207, -0.030764883384108543, -0.03062233328819275, -0.02802734449505806, 0.01813092641532421]\n"
     ]
    }
   ],
   "source": [
    "import os\n",
    "from langchain_chroma import Chroma\n",
    "from langchain_google_genai import GoogleGenerativeAIEmbeddings\n",
    "\n",
    "from dotenv import load_dotenv\n",
    "GOOGLE_API_KEY='AJ...' # use own Key\n",
    "embeddings = GoogleGenerativeAIEmbeddings(model=\"models/embedding-001\", google_api_key=GOOGLE_API_KEY)\n",
    "\n",
    "# Embed a query\n",
    "vector = embeddings.embed_query(\"hello, world!\")\n",
    "print(vector[:5])"
   ]
  },
  {
   "cell_type": "code",
   "execution_count": null,
   "id": "b1f4597b-f717-48f0-b2cd-0af06d2ed4bd",
   "metadata": {},
   "outputs": [],
   "source": [
    "retriever = vectorstore.as_retriever(search_type=\"similarity\", search_kwargs={\"k\": 5})\n",
    "\n",
    "retrieved_docs = retriever.invoke(\"What service you provide\")"
   ]
  },
  {
   "cell_type": "code",
   "execution_count": 9,
   "id": "aaa90b32-b509-4e70-b890-df2ba0bf5682",
   "metadata": {},
   "outputs": [
    {
     "data": {
      "text/plain": [
       "5"
      ]
     },
     "execution_count": 9,
     "metadata": {},
     "output_type": "execute_result"
    }
   ],
   "source": [
    "len(retrieved_docs)"
   ]
  },
  {
   "cell_type": "code",
   "execution_count": 10,
   "id": "967a5b98-9410-4ce1-8367-7d65300706cb",
   "metadata": {},
   "outputs": [
    {
     "name": "stdout",
     "output_type": "stream",
     "text": [
      "The Bentley Story\n",
      "\n",
      "Our story\n",
      "\n",
      "From W.O. Bentley, who founded Bentley Motors in 1919, to the current team of over 4,000 dedicated employees, the company’s extraordinary cars have always been designed and built by exceptional people using only the finest of materials. They have always been driven by exceptional people, too. From the passionate Bentley Boys and Girls who raced the cars in the 1920s, encouraging W.O. Bentley to achieve ever greater feats of engineering, to the visionary Bentley owners of today, Bentley drivers help to shape the world around them.\n",
      "\n",
      "As a brand we are also constantly looking forwards, and in this section you will find our technological innovations and future vision for Bentley. And now we are going further, towards a more sustainable future. In 2020 Bentley Motors launched the ‘Beyond100’ Manifesto, which outlines our intention to become the most sustainable luxury Automotive brand in the world.\n"
     ]
    }
   ],
   "source": [
    "print(retrieved_docs[0].page_content)"
   ]
  },
  {
   "cell_type": "code",
   "execution_count": null,
   "id": "f111ba25-2bb3-4c79-bf66-85f1c9b5c185",
   "metadata": {},
   "outputs": [],
   "source": [
    "from langchain_google_genai import ChatGoogleGenerativeAI\n",
    "google_api_key=GOOGLE_API_KEY\n",
    "llm = ChatGoogleGenerativeAI(model=\"gemini-1.5-pro\",temperature=0.35, max_tokens=600,google_api_key=google_api_key)"
   ]
  },
  {
   "cell_type": "code",
   "execution_count": 23,
   "id": "35ada9f7-c117-47d9-afda-0e3b73bdb34c",
   "metadata": {},
   "outputs": [],
   "source": [
    "from langchain.chains import create_retrieval_chain\n",
    "from langchain.chains.combine_documents import create_stuff_documents_chain\n",
    "from langchain_core.prompts import ChatPromptTemplate\n",
    "\n",
    "system_prompt = (\n",
    "    \"You are an assistant for question-answering tasks. \"\n",
    "    \"Use the following pieces of retrieved context to answer \"\n",
    "    \"the question. If you don't know the answer, say that you \"\n",
    "    \"don't know. Use three sentences maximum and keep the \"\n",
    "    \"answer concise.\"\n",
    "    \"\\n\\n\"\n",
    "    \"{context}\"\n",
    ")\n",
    "\n",
    "prompt = ChatPromptTemplate.from_messages(\n",
    "    [\n",
    "        (\"system\", system_prompt),\n",
    "        (\"human\", \"{input}\"),\n",
    "    ]\n",
    ")"
   ]
  },
  {
   "cell_type": "code",
   "execution_count": 24,
   "id": "dd6e3f5d-e52b-4a45-9d5e-44f97288ef0a",
   "metadata": {},
   "outputs": [],
   "source": [
    "question_answer_chain = create_stuff_documents_chain(llm, prompt)\n",
    "rag_chain = create_retrieval_chain(retriever, question_answer_chain)"
   ]
  },
  {
   "cell_type": "code",
   "execution_count": 25,
   "id": "17cc3f9e-2671-49db-938a-fda509e38874",
   "metadata": {},
   "outputs": [
    {
     "name": "stdout",
     "output_type": "stream",
     "text": [
      "The Bentayga is Bentley's first SUV model and was launched in 2015. It was designed to offer high levels of luxury and performance, typical of the Bentley brand.  The Bentayga was named after Roque Bentayga, a mountain located in Gran Canaria, Spain. \n",
      "\n"
     ]
    }
   ],
   "source": [
    "response = rag_chain.invoke({\"input\": \"What is Bentayga?\"})\n",
    "print(response[\"answer\"])"
   ]
  },
  {
   "cell_type": "code",
   "execution_count": null,
   "id": "9c411135-4445-49cf-8919-f3e0a7bac44b",
   "metadata": {},
   "outputs": [],
   "source": []
  }
 ],
 "metadata": {
  "kernelspec": {
   "display_name": "Python 3 (ipykernel)",
   "language": "python",
   "name": "python3"
  },
  "language_info": {
   "codemirror_mode": {
    "name": "ipython",
    "version": 3
   },
   "file_extension": ".py",
   "mimetype": "text/x-python",
   "name": "python",
   "nbconvert_exporter": "python",
   "pygments_lexer": "ipython3",
   "version": "3.10.14"
  }
 },
 "nbformat": 4,
 "nbformat_minor": 5
}
